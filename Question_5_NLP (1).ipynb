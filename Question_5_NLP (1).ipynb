{
  "nbformat": 4,
  "nbformat_minor": 0,
  "metadata": {
    "kernelspec": {
      "display_name": "Python 3",
      "language": "python",
      "name": "python3"
    },
    "language_info": {
      "codemirror_mode": {
        "name": "ipython",
        "version": 3
      },
      "file_extension": ".py",
      "mimetype": "text/x-python",
      "name": "python",
      "nbconvert_exporter": "python",
      "pygments_lexer": "ipython3",
      "version": "3.7.6"
    },
    "papermill": {
      "duration": 1914.859324,
      "end_time": "2020-10-27T13:38:46.128161",
      "environment_variables": {},
      "exception": null,
      "input_path": "__notebook__.ipynb",
      "output_path": "__notebook__.ipynb",
      "parameters": {},
      "start_time": "2020-10-27T13:06:51.268837",
      "version": "2.1.0"
    },
    "colab": {
      "provenance": [],
      "collapsed_sections": [
        "5d0YM1_URIcp"
      ]
    }
  },
  "cells": [
    {
      "cell_type": "markdown",
      "metadata": {
        "papermill": {
          "duration": 0.039895,
          "end_time": "2020-10-27T13:06:56.955573",
          "exception": false,
          "start_time": "2020-10-27T13:06:56.915678",
          "status": "completed"
        },
        "tags": [],
        "id": "HrFGjAA0RIcb"
      },
      "source": [
        "# Libraries"
      ]
    },
    {
      "cell_type": "code",
      "metadata": {
        "_cell_guid": "79c7e3d0-c299-4dcb-8224-4455121ee9b0",
        "_uuid": "d629ff2d2480ee46fbb7e2d37f6b5fab8052498a",
        "execution": {
          "iopub.execute_input": "2020-10-27T13:06:57.043004Z",
          "iopub.status.busy": "2020-10-27T13:06:57.042012Z",
          "iopub.status.idle": "2020-10-27T13:07:06.289235Z",
          "shell.execute_reply": "2020-10-27T13:07:06.288274Z"
        },
        "papermill": {
          "duration": 9.296261,
          "end_time": "2020-10-27T13:07:06.289393",
          "exception": false,
          "start_time": "2020-10-27T13:06:56.993132",
          "status": "completed"
        },
        "tags": [],
        "id": "2ekGHsBWRIcb"
      },
      "source": [
        "import pandas as pd\n",
        "import numpy as np\n",
        "import matplotlib.pyplot as plt\n",
        "import seaborn as sns\n",
        "import re\n",
        "import nltk\n",
        "from nltk.corpus import stopwords\n",
        "from sklearn.feature_extraction.text import CountVectorizer\n",
        "from sklearn.model_selection import train_test_split\n",
        "from sklearn.ensemble import RandomForestClassifier\n",
        "import tensorflow as tf\n",
        "from nltk.stem import WordNetLemmatizer\n",
        "from sklearn.feature_extraction.text import TfidfVectorizer\n",
        "from gensim.models import word2vec\n",
        "from sklearn.metrics import confusion_matrix\n",
        "from sklearn.linear_model import LogisticRegression"
      ],
      "execution_count": null,
      "outputs": []
    },
    {
      "cell_type": "markdown",
      "metadata": {
        "papermill": {
          "duration": 0.041204,
          "end_time": "2020-10-27T13:07:06.370895",
          "exception": false,
          "start_time": "2020-10-27T13:07:06.329691",
          "status": "completed"
        },
        "tags": [],
        "id": "InQ4OhHQRIcd"
      },
      "source": [
        "# Loading The Data Set\n",
        "* Assigning column names"
      ]
    },
    {
      "cell_type": "code",
      "metadata": {
        "execution": {
          "iopub.execute_input": "2020-10-27T13:07:06.462683Z",
          "iopub.status.busy": "2020-10-27T13:07:06.461693Z",
          "iopub.status.idle": "2020-10-27T13:07:14.084179Z",
          "shell.execute_reply": "2020-10-27T13:07:14.083286Z"
        },
        "papermill": {
          "duration": 7.674467,
          "end_time": "2020-10-27T13:07:14.084324",
          "exception": false,
          "start_time": "2020-10-27T13:07:06.409857",
          "status": "completed"
        },
        "tags": [],
        "id": "zLbgglRNRIcd",
        "outputId": "7e0b7770-bde5-41af-a374-01736dffd1c4"
      },
      "source": [
        "dd = pd.read_csv('/content/training.1600000.processed.noemoticon.csv',encoding = \"ISO-8859-1\")\n",
        "dd.columns = ['sentiment','id','date','query','special','text']\n",
        "dd.head()"
      ],
      "execution_count": null,
      "outputs": [
        {
          "output_type": "execute_result",
          "data": {
            "text/html": [
              "<div>\n",
              "<style scoped>\n",
              "    .dataframe tbody tr th:only-of-type {\n",
              "        vertical-align: middle;\n",
              "    }\n",
              "\n",
              "    .dataframe tbody tr th {\n",
              "        vertical-align: top;\n",
              "    }\n",
              "\n",
              "    .dataframe thead th {\n",
              "        text-align: right;\n",
              "    }\n",
              "</style>\n",
              "<table border=\"1\" class=\"dataframe\">\n",
              "  <thead>\n",
              "    <tr style=\"text-align: right;\">\n",
              "      <th></th>\n",
              "      <th>sentiment</th>\n",
              "      <th>id</th>\n",
              "      <th>date</th>\n",
              "      <th>query</th>\n",
              "      <th>special</th>\n",
              "      <th>text</th>\n",
              "    </tr>\n",
              "  </thead>\n",
              "  <tbody>\n",
              "    <tr>\n",
              "      <th>0</th>\n",
              "      <td>0</td>\n",
              "      <td>1467810672</td>\n",
              "      <td>Mon Apr 06 22:19:49 PDT 2009</td>\n",
              "      <td>NO_QUERY</td>\n",
              "      <td>scotthamilton</td>\n",
              "      <td>is upset that he can't update his Facebook by ...</td>\n",
              "    </tr>\n",
              "    <tr>\n",
              "      <th>1</th>\n",
              "      <td>0</td>\n",
              "      <td>1467810917</td>\n",
              "      <td>Mon Apr 06 22:19:53 PDT 2009</td>\n",
              "      <td>NO_QUERY</td>\n",
              "      <td>mattycus</td>\n",
              "      <td>@Kenichan I dived many times for the ball. Man...</td>\n",
              "    </tr>\n",
              "    <tr>\n",
              "      <th>2</th>\n",
              "      <td>0</td>\n",
              "      <td>1467811184</td>\n",
              "      <td>Mon Apr 06 22:19:57 PDT 2009</td>\n",
              "      <td>NO_QUERY</td>\n",
              "      <td>ElleCTF</td>\n",
              "      <td>my whole body feels itchy and like its on fire</td>\n",
              "    </tr>\n",
              "    <tr>\n",
              "      <th>3</th>\n",
              "      <td>0</td>\n",
              "      <td>1467811193</td>\n",
              "      <td>Mon Apr 06 22:19:57 PDT 2009</td>\n",
              "      <td>NO_QUERY</td>\n",
              "      <td>Karoli</td>\n",
              "      <td>@nationwideclass no, it's not behaving at all....</td>\n",
              "    </tr>\n",
              "    <tr>\n",
              "      <th>4</th>\n",
              "      <td>0</td>\n",
              "      <td>1467811372</td>\n",
              "      <td>Mon Apr 06 22:20:00 PDT 2009</td>\n",
              "      <td>NO_QUERY</td>\n",
              "      <td>joy_wolf</td>\n",
              "      <td>@Kwesidei not the whole crew</td>\n",
              "    </tr>\n",
              "  </tbody>\n",
              "</table>\n",
              "</div>"
            ],
            "text/plain": [
              "   sentiment          id                          date     query  \\\n",
              "0          0  1467810672  Mon Apr 06 22:19:49 PDT 2009  NO_QUERY   \n",
              "1          0  1467810917  Mon Apr 06 22:19:53 PDT 2009  NO_QUERY   \n",
              "2          0  1467811184  Mon Apr 06 22:19:57 PDT 2009  NO_QUERY   \n",
              "3          0  1467811193  Mon Apr 06 22:19:57 PDT 2009  NO_QUERY   \n",
              "4          0  1467811372  Mon Apr 06 22:20:00 PDT 2009  NO_QUERY   \n",
              "\n",
              "         special                                               text  \n",
              "0  scotthamilton  is upset that he can't update his Facebook by ...  \n",
              "1       mattycus  @Kenichan I dived many times for the ball. Man...  \n",
              "2        ElleCTF    my whole body feels itchy and like its on fire   \n",
              "3         Karoli  @nationwideclass no, it's not behaving at all....  \n",
              "4       joy_wolf                      @Kwesidei not the whole crew   "
            ]
          },
          "metadata": {
            "tags": []
          },
          "execution_count": 2
        }
      ]
    },
    {
      "cell_type": "markdown",
      "metadata": {
        "papermill": {
          "duration": 0.036352,
          "end_time": "2020-10-27T13:07:14.158240",
          "exception": false,
          "start_time": "2020-10-27T13:07:14.121888",
          "status": "completed"
        },
        "tags": [],
        "id": "JleLUs-2RIcg"
      },
      "source": [
        "# Dropping Few Columns"
      ]
    },
    {
      "cell_type": "code",
      "metadata": {
        "execution": {
          "iopub.execute_input": "2020-10-27T13:07:14.245846Z",
          "iopub.status.busy": "2020-10-27T13:07:14.244936Z",
          "iopub.status.idle": "2020-10-27T13:07:14.281554Z",
          "shell.execute_reply": "2020-10-27T13:07:14.280532Z"
        },
        "papermill": {
          "duration": 0.08716,
          "end_time": "2020-10-27T13:07:14.281791",
          "exception": false,
          "start_time": "2020-10-27T13:07:14.194631",
          "status": "completed"
        },
        "tags": [],
        "id": "_jVSMOOGRIcg"
      },
      "source": [
        "dd.drop(['id','date','query','special'],axis = 1,inplace = True)"
      ],
      "execution_count": null,
      "outputs": []
    },
    {
      "cell_type": "code",
      "metadata": {
        "execution": {
          "iopub.execute_input": "2020-10-27T13:07:14.451103Z",
          "iopub.status.busy": "2020-10-27T13:07:14.449740Z",
          "iopub.status.idle": "2020-10-27T13:07:14.540090Z",
          "shell.execute_reply": "2020-10-27T13:07:14.539266Z"
        },
        "papermill": {
          "duration": 0.136705,
          "end_time": "2020-10-27T13:07:14.540229",
          "exception": false,
          "start_time": "2020-10-27T13:07:14.403524",
          "status": "completed"
        },
        "tags": [],
        "id": "3rT6SsbERIch"
      },
      "source": [
        "df = dd.sample(100000)"
      ],
      "execution_count": null,
      "outputs": []
    },
    {
      "cell_type": "markdown",
      "metadata": {
        "papermill": {
          "duration": 0.036667,
          "end_time": "2020-10-27T13:07:14.614295",
          "exception": false,
          "start_time": "2020-10-27T13:07:14.577628",
          "status": "completed"
        },
        "tags": [],
        "id": "EODwJb3dRIci"
      },
      "source": [
        "# Basic Preprocessing\n",
        "* Removing unwanted elements like '@' , ',' as they dont add any value.\n",
        "* (Stopwords)Removing the words which does not add any meaning."
      ]
    },
    {
      "cell_type": "code",
      "metadata": {
        "execution": {
          "iopub.execute_input": "2020-10-27T13:07:14.726767Z",
          "iopub.status.busy": "2020-10-27T13:07:14.725989Z",
          "iopub.status.idle": "2020-10-27T13:07:16.091639Z",
          "shell.execute_reply": "2020-10-27T13:07:16.090845Z"
        },
        "papermill": {
          "duration": 1.440715,
          "end_time": "2020-10-27T13:07:16.091792",
          "exception": false,
          "start_time": "2020-10-27T13:07:14.651077",
          "status": "completed"
        },
        "tags": [],
        "id": "7g-ZSJKnRIci"
      },
      "source": [
        "df['Cleaned'] = df['text'].str.replace('@','')\n",
        "df['Cleaned'] = df['Cleaned'].str.replace(r'http\\S+','')\n",
        "df['Cleaned'] = df['Cleaned'].str.replace('[^a-zA-Z]',' ')"
      ],
      "execution_count": null,
      "outputs": []
    },
    {
      "cell_type": "code",
      "metadata": {
        "execution": {
          "iopub.execute_input": "2020-10-27T13:07:16.182451Z",
          "iopub.status.busy": "2020-10-27T13:07:16.181578Z",
          "iopub.status.idle": "2020-10-27T13:07:16.192431Z",
          "shell.execute_reply": "2020-10-27T13:07:16.191463Z"
        },
        "papermill": {
          "duration": 0.059439,
          "end_time": "2020-10-27T13:07:16.192611",
          "exception": false,
          "start_time": "2020-10-27T13:07:16.133172",
          "status": "completed"
        },
        "tags": [],
        "id": "x5i0eCmARIcj"
      },
      "source": [
        "stopwords = stopwords.words('english')"
      ],
      "execution_count": null,
      "outputs": []
    },
    {
      "cell_type": "code",
      "metadata": {
        "execution": {
          "iopub.execute_input": "2020-10-27T13:07:16.285440Z",
          "iopub.status.busy": "2020-10-27T13:07:16.284462Z",
          "iopub.status.idle": "2020-10-27T13:07:16.288073Z",
          "shell.execute_reply": "2020-10-27T13:07:16.287374Z"
        },
        "papermill": {
          "duration": 0.053854,
          "end_time": "2020-10-27T13:07:16.288242",
          "exception": false,
          "start_time": "2020-10-27T13:07:16.234388",
          "status": "completed"
        },
        "tags": [],
        "id": "lhNKMe_cRIcj"
      },
      "source": [
        "def remove_stopwords(text):\n",
        "    clean_text=' '.join([word for word in text.split() if word not in stopwords])\n",
        "    return clean_text"
      ],
      "execution_count": null,
      "outputs": []
    },
    {
      "cell_type": "code",
      "metadata": {
        "execution": {
          "iopub.execute_input": "2020-10-27T13:07:16.372703Z",
          "iopub.status.busy": "2020-10-27T13:07:16.371006Z",
          "iopub.status.idle": "2020-10-27T13:07:20.175552Z",
          "shell.execute_reply": "2020-10-27T13:07:20.176154Z"
        },
        "papermill": {
          "duration": 3.850688,
          "end_time": "2020-10-27T13:07:20.176359",
          "exception": false,
          "start_time": "2020-10-27T13:07:16.325671",
          "status": "completed"
        },
        "tags": [],
        "id": "QcQKvTiQRIck"
      },
      "source": [
        "df['Cleaned'] = df['Cleaned'].apply(lambda text : remove_stopwords(text.lower()))\n",
        "df['Cleaned'] = df['Cleaned'].apply(lambda x : x.split())"
      ],
      "execution_count": null,
      "outputs": []
    },
    {
      "cell_type": "code",
      "metadata": {
        "execution": {
          "iopub.execute_input": "2020-10-27T13:07:20.278898Z",
          "iopub.status.busy": "2020-10-27T13:07:20.278045Z",
          "iopub.status.idle": "2020-10-27T13:07:20.284047Z",
          "shell.execute_reply": "2020-10-27T13:07:20.284657Z"
        },
        "papermill": {
          "duration": 0.066846,
          "end_time": "2020-10-27T13:07:20.284874",
          "exception": false,
          "start_time": "2020-10-27T13:07:20.218028",
          "status": "completed"
        },
        "tags": [],
        "id": "AABhSkpiRIck",
        "outputId": "d782b29a-05fb-43ae-a75e-873eef16b063"
      },
      "source": [
        "df.head()"
      ],
      "execution_count": null,
      "outputs": [
        {
          "output_type": "execute_result",
          "data": {
            "text/html": [
              "<div>\n",
              "<style scoped>\n",
              "    .dataframe tbody tr th:only-of-type {\n",
              "        vertical-align: middle;\n",
              "    }\n",
              "\n",
              "    .dataframe tbody tr th {\n",
              "        vertical-align: top;\n",
              "    }\n",
              "\n",
              "    .dataframe thead th {\n",
              "        text-align: right;\n",
              "    }\n",
              "</style>\n",
              "<table border=\"1\" class=\"dataframe\">\n",
              "  <thead>\n",
              "    <tr style=\"text-align: right;\">\n",
              "      <th></th>\n",
              "      <th>sentiment</th>\n",
              "      <th>text</th>\n",
              "      <th>Cleaned</th>\n",
              "    </tr>\n",
              "  </thead>\n",
              "  <tbody>\n",
              "    <tr>\n",
              "      <th>1370338</th>\n",
              "      <td>4</td>\n",
              "      <td>@mmh807 Going to NJ to escape the motorcycle c...</td>\n",
              "      <td>[mmh, going, nj, escape, motorcycle, convention]</td>\n",
              "    </tr>\n",
              "    <tr>\n",
              "      <th>1011051</th>\n",
              "      <td>4</td>\n",
              "      <td>@hot30 more people need to vote for Short Stac...</td>\n",
              "      <td>[hot, people, need, vote, short, stack, sway, ...</td>\n",
              "    </tr>\n",
              "    <tr>\n",
              "      <th>89492</th>\n",
              "      <td>0</td>\n",
              "      <td>I don't wanna go to work today...  Or anyday.....</td>\n",
              "      <td>[wanna, go, work, today, anyday, win, lottery]</td>\n",
              "    </tr>\n",
              "    <tr>\n",
              "      <th>133224</th>\n",
              "      <td>0</td>\n",
              "      <td>says he is so lonely today  http://plurk.com/p...</td>\n",
              "      <td>[says, lonely, today]</td>\n",
              "    </tr>\n",
              "    <tr>\n",
              "      <th>800908</th>\n",
              "      <td>4</td>\n",
              "      <td>i... just belted 'a dark congregation' for no ...</td>\n",
              "      <td>[belted, dark, congregation, reason, think, go...</td>\n",
              "    </tr>\n",
              "  </tbody>\n",
              "</table>\n",
              "</div>"
            ],
            "text/plain": [
              "         sentiment                                               text  \\\n",
              "1370338          4  @mmh807 Going to NJ to escape the motorcycle c...   \n",
              "1011051          4  @hot30 more people need to vote for Short Stac...   \n",
              "89492            0  I don't wanna go to work today...  Or anyday.....   \n",
              "133224           0  says he is so lonely today  http://plurk.com/p...   \n",
              "800908           4  i... just belted 'a dark congregation' for no ...   \n",
              "\n",
              "                                                   Cleaned  \n",
              "1370338   [mmh, going, nj, escape, motorcycle, convention]  \n",
              "1011051  [hot, people, need, vote, short, stack, sway, ...  \n",
              "89492       [wanna, go, work, today, anyday, win, lottery]  \n",
              "133224                               [says, lonely, today]  \n",
              "800908   [belted, dark, congregation, reason, think, go...  "
            ]
          },
          "metadata": {
            "tags": []
          },
          "execution_count": 9
        }
      ]
    },
    {
      "cell_type": "code",
      "metadata": {
        "execution": {
          "iopub.execute_input": "2020-10-27T13:07:20.370225Z",
          "iopub.status.busy": "2020-10-27T13:07:20.368987Z",
          "iopub.status.idle": "2020-10-27T13:07:20.566543Z",
          "shell.execute_reply": "2020-10-27T13:07:20.565757Z"
        },
        "papermill": {
          "duration": 0.243426,
          "end_time": "2020-10-27T13:07:20.566676",
          "exception": false,
          "start_time": "2020-10-27T13:07:20.323250",
          "status": "completed"
        },
        "tags": [],
        "id": "5MwoAhVYRIcl",
        "outputId": "b3c45716-a107-452f-fc86-d3ffbd170a45"
      },
      "source": [
        "sns.countplot(df.sentiment)"
      ],
      "execution_count": null,
      "outputs": [
        {
          "output_type": "execute_result",
          "data": {
            "text/plain": [
              "<matplotlib.axes._subplots.AxesSubplot at 0x7f4da2856750>"
            ]
          },
          "metadata": {
            "tags": []
          },
          "execution_count": 10
        },
        {
          "output_type": "display_data",
          "data": {
            "image/png": "[encoded data removed]",
            "text/plain": [
              "<Figure size 432x288 with 1 Axes>"
            ]
          },
          "metadata": {
            "tags": [],
            "needs_background": "light"
          }
        }
      ]
    },
    {
      "cell_type": "markdown",
      "metadata": {
        "papermill": {
          "duration": 0.039102,
          "end_time": "2020-10-27T13:07:20.645199",
          "exception": false,
          "start_time": "2020-10-27T13:07:20.606097",
          "status": "completed"
        },
        "tags": [],
        "id": "pS2eXVqSRIcl"
      },
      "source": [
        "# Lemmatization"
      ]
    },
    {
      "cell_type": "code",
      "metadata": {
        "execution": {
          "iopub.execute_input": "2020-10-27T13:07:20.731816Z",
          "iopub.status.busy": "2020-10-27T13:07:20.731045Z",
          "iopub.status.idle": "2020-10-27T13:07:28.945669Z",
          "shell.execute_reply": "2020-10-27T13:07:28.944945Z"
        },
        "papermill": {
          "duration": 8.261598,
          "end_time": "2020-10-27T13:07:28.945833",
          "exception": false,
          "start_time": "2020-10-27T13:07:20.684235",
          "status": "completed"
        },
        "tags": [],
        "id": "vcgByFYcRIcm"
      },
      "source": [
        "wordnet=WordNetLemmatizer()\n",
        "df['Cleaned'] = df['Cleaned'].apply(lambda x : [wordnet.lemmatize(i) for i in x])"
      ],
      "execution_count": null,
      "outputs": []
    },
    {
      "cell_type": "code",
      "metadata": {
        "execution": {
          "iopub.execute_input": "2020-10-27T13:07:29.054770Z",
          "iopub.status.busy": "2020-10-27T13:07:29.049533Z",
          "iopub.status.idle": "2020-10-27T13:07:29.214165Z",
          "shell.execute_reply": "2020-10-27T13:07:29.213254Z"
        },
        "papermill": {
          "duration": 0.223011,
          "end_time": "2020-10-27T13:07:29.214326",
          "exception": false,
          "start_time": "2020-10-27T13:07:28.991315",
          "status": "completed"
        },
        "tags": [],
        "id": "jO3hF9zBRIcm"
      },
      "source": [
        "df['Cleaned'] = df['Cleaned'].apply(lambda x : ' '.join([w for w in x]))"
      ],
      "execution_count": null,
      "outputs": []
    },
    {
      "cell_type": "code",
      "metadata": {
        "execution": {
          "iopub.execute_input": "2020-10-27T13:07:29.312695Z",
          "iopub.status.busy": "2020-10-27T13:07:29.311392Z",
          "iopub.status.idle": "2020-10-27T13:07:29.533916Z",
          "shell.execute_reply": "2020-10-27T13:07:29.533164Z"
        },
        "papermill": {
          "duration": 0.27633,
          "end_time": "2020-10-27T13:07:29.534095",
          "exception": false,
          "start_time": "2020-10-27T13:07:29.257765",
          "status": "completed"
        },
        "tags": [],
        "id": "CqSaG9GCRIcn"
      },
      "source": [
        "df['Cleaned'] = df['Cleaned'].apply(lambda x : ' '.join([w for w in x.split()]))"
      ],
      "execution_count": null,
      "outputs": []
    },
    {
      "cell_type": "code",
      "metadata": {
        "execution": {
          "iopub.execute_input": "2020-10-27T13:07:29.634002Z",
          "iopub.status.busy": "2020-10-27T13:07:29.632808Z",
          "iopub.status.idle": "2020-10-27T13:07:29.638882Z",
          "shell.execute_reply": "2020-10-27T13:07:29.637905Z"
        },
        "papermill": {
          "duration": 0.060655,
          "end_time": "2020-10-27T13:07:29.639097",
          "exception": false,
          "start_time": "2020-10-27T13:07:29.578442",
          "status": "completed"
        },
        "tags": [],
        "id": "lsYqMRqiRIcn",
        "outputId": "72901a05-d09c-4d50-d81c-9e4d6492853f"
      },
      "source": [
        "df.head()"
      ],
      "execution_count": null,
      "outputs": [
        {
          "output_type": "execute_result",
          "data": {
            "text/html": [
              "<div>\n",
              "<style scoped>\n",
              "    .dataframe tbody tr th:only-of-type {\n",
              "        vertical-align: middle;\n",
              "    }\n",
              "\n",
              "    .dataframe tbody tr th {\n",
              "        vertical-align: top;\n",
              "    }\n",
              "\n",
              "    .dataframe thead th {\n",
              "        text-align: right;\n",
              "    }\n",
              "</style>\n",
              "<table border=\"1\" class=\"dataframe\">\n",
              "  <thead>\n",
              "    <tr style=\"text-align: right;\">\n",
              "      <th></th>\n",
              "      <th>sentiment</th>\n",
              "      <th>text</th>\n",
              "      <th>Cleaned</th>\n",
              "    </tr>\n",
              "  </thead>\n",
              "  <tbody>\n",
              "    <tr>\n",
              "      <th>1370338</th>\n",
              "      <td>4</td>\n",
              "      <td>@mmh807 Going to NJ to escape the motorcycle c...</td>\n",
              "      <td>mmh going nj escape motorcycle convention</td>\n",
              "    </tr>\n",
              "    <tr>\n",
              "      <th>1011051</th>\n",
              "      <td>4</td>\n",
              "      <td>@hot30 more people need to vote for Short Stac...</td>\n",
              "      <td>hot people need vote short stack sway sway bab...</td>\n",
              "    </tr>\n",
              "    <tr>\n",
              "      <th>89492</th>\n",
              "      <td>0</td>\n",
              "      <td>I don't wanna go to work today...  Or anyday.....</td>\n",
              "      <td>wanna go work today anyday win lottery</td>\n",
              "    </tr>\n",
              "    <tr>\n",
              "      <th>133224</th>\n",
              "      <td>0</td>\n",
              "      <td>says he is so lonely today  http://plurk.com/p...</td>\n",
              "      <td>say lonely today</td>\n",
              "    </tr>\n",
              "    <tr>\n",
              "      <th>800908</th>\n",
              "      <td>4</td>\n",
              "      <td>i... just belted 'a dark congregation' for no ...</td>\n",
              "      <td>belted dark congregation reason think got back...</td>\n",
              "    </tr>\n",
              "  </tbody>\n",
              "</table>\n",
              "</div>"
            ],
            "text/plain": [
              "         sentiment                                               text  \\\n",
              "1370338          4  @mmh807 Going to NJ to escape the motorcycle c...   \n",
              "1011051          4  @hot30 more people need to vote for Short Stac...   \n",
              "89492            0  I don't wanna go to work today...  Or anyday.....   \n",
              "133224           0  says he is so lonely today  http://plurk.com/p...   \n",
              "800908           4  i... just belted 'a dark congregation' for no ...   \n",
              "\n",
              "                                                   Cleaned  \n",
              "1370338          mmh going nj escape motorcycle convention  \n",
              "1011051  hot people need vote short stack sway sway bab...  \n",
              "89492               wanna go work today anyday win lottery  \n",
              "133224                                    say lonely today  \n",
              "800908   belted dark congregation reason think got back...  "
            ]
          },
          "metadata": {
            "tags": []
          },
          "execution_count": 14
        }
      ]
    },
    {
      "cell_type": "markdown",
      "metadata": {
        "papermill": {
          "duration": 0.040272,
          "end_time": "2020-10-27T13:07:29.720706",
          "exception": false,
          "start_time": "2020-10-27T13:07:29.680434",
          "status": "completed"
        },
        "tags": [],
        "id": "zQC-YySdRIco"
      },
      "source": [
        "# Bag of Words"
      ]
    },
    {
      "cell_type": "code",
      "metadata": {
        "execution": {
          "iopub.execute_input": "2020-10-27T13:07:29.883468Z",
          "iopub.status.busy": "2020-10-27T13:07:29.847288Z",
          "iopub.status.idle": "2020-10-27T13:07:33.005425Z",
          "shell.execute_reply": "2020-10-27T13:07:33.004453Z"
        },
        "papermill": {
          "duration": 3.241527,
          "end_time": "2020-10-27T13:07:33.005602",
          "exception": false,
          "start_time": "2020-10-27T13:07:29.764075",
          "status": "completed"
        },
        "tags": [],
        "id": "HDCUmbNsRIco",
        "outputId": "ec2f4dcd-7563-4318-f777-c1bf308d6de2"
      },
      "source": [
        "cv = CountVectorizer(max_features = 2500)\n",
        "x = cv.fit_transform(df['Cleaned']).toarray()\n",
        "x.shape"
      ],
      "execution_count": null,
      "outputs": [
        {
          "output_type": "execute_result",
          "data": {
            "text/plain": [
              "(100000, 2500)"
            ]
          },
          "metadata": {
            "tags": []
          },
          "execution_count": 15
        }
      ]
    },
    {
      "cell_type": "code",
      "metadata": {
        "execution": {
          "iopub.execute_input": "2020-10-27T13:07:33.102937Z",
          "iopub.status.busy": "2020-10-27T13:07:33.102067Z",
          "iopub.status.idle": "2020-10-27T13:07:34.459281Z",
          "shell.execute_reply": "2020-10-27T13:07:34.458244Z"
        },
        "papermill": {
          "duration": 1.409173,
          "end_time": "2020-10-27T13:07:34.459496",
          "exception": false,
          "start_time": "2020-10-27T13:07:33.050323",
          "status": "completed"
        },
        "tags": [],
        "id": "QALUQF5bRIcp"
      },
      "source": [
        "x_train,x_test,y_train,y_test = train_test_split(x,df['sentiment'],test_size = 0.2,random_state = 42)"
      ],
      "execution_count": null,
      "outputs": []
    },
    {
      "cell_type": "markdown",
      "metadata": {
        "papermill": {
          "duration": 0.047479,
          "end_time": "2020-10-27T13:07:34.553950",
          "exception": false,
          "start_time": "2020-10-27T13:07:34.506471",
          "status": "completed"
        },
        "tags": [],
        "id": "5d0YM1_URIcp"
      },
      "source": [
        "# Model Building\n",
        "* Random Forest\n",
        "* Logistic Regression"
      ]
    },
    {
      "cell_type": "markdown",
      "metadata": {
        "papermill": {
          "duration": 0.042721,
          "end_time": "2020-10-27T13:07:34.642051",
          "exception": false,
          "start_time": "2020-10-27T13:07:34.599330",
          "status": "completed"
        },
        "tags": [],
        "id": "V28onXhkRIcp"
      },
      "source": [
        "# Random Forest"
      ]
    },
    {
      "cell_type": "code",
      "metadata": {
        "execution": {
          "iopub.execute_input": "2020-10-27T13:07:34.741434Z",
          "iopub.status.busy": "2020-10-27T13:07:34.740567Z",
          "iopub.status.idle": "2020-10-27T13:20:09.522907Z",
          "shell.execute_reply": "2020-10-27T13:20:09.522224Z"
        },
        "papermill": {
          "duration": 754.835301,
          "end_time": "2020-10-27T13:20:09.523101",
          "exception": false,
          "start_time": "2020-10-27T13:07:34.687800",
          "status": "completed"
        },
        "tags": [],
        "id": "qXyXMsHxRIcq",
        "outputId": "c8ac38c9-ff9d-478a-f84c-1fb20669e0b8"
      },
      "source": [
        "%%time\n",
        "model = RandomForestClassifier()\n",
        "model.fit(x_train,y_train)"
      ],
      "execution_count": null,
      "outputs": [
        {
          "output_type": "stream",
          "text": [
            "CPU times: user 12min 33s, sys: 856 ms, total: 12min 34s\n",
            "Wall time: 12min 34s\n"
          ],
          "name": "stdout"
        },
        {
          "output_type": "execute_result",
          "data": {
            "text/plain": [
              "RandomForestClassifier()"
            ]
          },
          "metadata": {
            "tags": []
          },
          "execution_count": 17
        }
      ]
    },
    {
      "cell_type": "code",
      "metadata": {
        "execution": {
          "iopub.execute_input": "2020-10-27T13:20:09.617944Z",
          "iopub.status.busy": "2020-10-27T13:20:09.616323Z",
          "iopub.status.idle": "2020-10-27T13:20:27.503407Z",
          "shell.execute_reply": "2020-10-27T13:20:27.504055Z"
        },
        "papermill": {
          "duration": 17.938058,
          "end_time": "2020-10-27T13:20:27.504254",
          "exception": false,
          "start_time": "2020-10-27T13:20:09.566196",
          "status": "completed"
        },
        "tags": [],
        "id": "gWRdVNlJRIcq",
        "outputId": "ce202d2d-03f3-4165-d2e8-cda8a6900b4c"
      },
      "source": [
        "model.score(x_train,y_train)"
      ],
      "execution_count": null,
      "outputs": [
        {
          "output_type": "execute_result",
          "data": {
            "text/plain": [
              "0.9786"
            ]
          },
          "metadata": {
            "tags": []
          },
          "execution_count": 18
        }
      ]
    },
    {
      "cell_type": "code",
      "metadata": {
        "execution": {
          "iopub.execute_input": "2020-10-27T13:20:27.605981Z",
          "iopub.status.busy": "2020-10-27T13:20:27.605131Z",
          "iopub.status.idle": "2020-10-27T13:20:32.482638Z",
          "shell.execute_reply": "2020-10-27T13:20:32.482028Z"
        },
        "papermill": {
          "duration": 4.930439,
          "end_time": "2020-10-27T13:20:32.482775",
          "exception": false,
          "start_time": "2020-10-27T13:20:27.552336",
          "status": "completed"
        },
        "tags": [],
        "id": "Uf-8wc_FRIcr",
        "outputId": "db9dac5a-45db-4acb-a6e7-e255828617b0"
      },
      "source": [
        "model.score(x_test,y_test)"
      ],
      "execution_count": null,
      "outputs": [
        {
          "output_type": "execute_result",
          "data": {
            "text/plain": [
              "0.7336"
            ]
          },
          "metadata": {
            "tags": []
          },
          "execution_count": 19
        }
      ]
    },
    {
      "cell_type": "markdown",
      "metadata": {
        "papermill": {
          "duration": 0.04463,
          "end_time": "2020-10-27T13:20:32.571838",
          "exception": false,
          "start_time": "2020-10-27T13:20:32.527208",
          "status": "completed"
        },
        "tags": [],
        "id": "rRXJcYtiRIcs"
      },
      "source": [
        "# Log Regression"
      ]
    },
    {
      "cell_type": "code",
      "metadata": {
        "execution": {
          "iopub.execute_input": "2020-10-27T13:20:32.666849Z",
          "iopub.status.busy": "2020-10-27T13:20:32.666072Z",
          "iopub.status.idle": "2020-10-27T13:20:58.075022Z",
          "shell.execute_reply": "2020-10-27T13:20:58.075794Z"
        },
        "papermill": {
          "duration": 25.460328,
          "end_time": "2020-10-27T13:20:58.076002",
          "exception": false,
          "start_time": "2020-10-27T13:20:32.615674",
          "status": "completed"
        },
        "tags": [],
        "id": "jfZZb-oHRIct",
        "outputId": "26e5f72d-7fb6-4b54-cfd1-52dfb8578195"
      },
      "source": [
        "%%time\n",
        "reg = LogisticRegression()\n",
        "reg.fit(x_train,y_train)"
      ],
      "execution_count": null,
      "outputs": [
        {
          "output_type": "stream",
          "text": [
            "CPU times: user 48.3 s, sys: 871 ms, total: 49.2 s\n",
            "Wall time: 25.4 s\n"
          ],
          "name": "stdout"
        },
        {
          "output_type": "stream",
          "text": [
            "/opt/conda/lib/python3.7/site-packages/sklearn/linear_model/_logistic.py:764: ConvergenceWarning: lbfgs failed to converge (status=1):\n",
            "STOP: TOTAL NO. of ITERATIONS REACHED LIMIT.\n",
            "\n",
            "Increase the number of iterations (max_iter) or scale the data as shown in:\n",
            "    https://scikit-learn.org/stable/modules/preprocessing.html\n",
            "Please also refer to the documentation for alternative solver options:\n",
            "    https://scikit-learn.org/stable/modules/linear_model.html#logistic-regression\n",
            "  extra_warning_msg=_LOGISTIC_SOLVER_CONVERGENCE_MSG)\n"
          ],
          "name": "stderr"
        },
        {
          "output_type": "execute_result",
          "data": {
            "text/plain": [
              "LogisticRegression()"
            ]
          },
          "metadata": {
            "tags": []
          },
          "execution_count": 20
        }
      ]
    },
    {
      "cell_type": "code",
      "metadata": {
        "execution": {
          "iopub.execute_input": "2020-10-27T13:20:58.188592Z",
          "iopub.status.busy": "2020-10-27T13:20:58.187275Z",
          "iopub.status.idle": "2020-10-27T13:20:58.938088Z",
          "shell.execute_reply": "2020-10-27T13:20:58.937281Z"
        },
        "papermill": {
          "duration": 0.807049,
          "end_time": "2020-10-27T13:20:58.938228",
          "exception": false,
          "start_time": "2020-10-27T13:20:58.131179",
          "status": "completed"
        },
        "tags": [],
        "id": "N4-26US6RIcu",
        "outputId": "39cdef7a-d7e9-4107-edb1-bc40f555c296"
      },
      "source": [
        "reg.score(x_train,y_train)"
      ],
      "execution_count": null,
      "outputs": [
        {
          "output_type": "execute_result",
          "data": {
            "text/plain": [
              "0.7692125"
            ]
          },
          "metadata": {
            "tags": []
          },
          "execution_count": 21
        }
      ]
    },
    {
      "cell_type": "code",
      "metadata": {
        "execution": {
          "iopub.execute_input": "2020-10-27T13:20:59.038257Z",
          "iopub.status.busy": "2020-10-27T13:20:59.037275Z",
          "iopub.status.idle": "2020-10-27T13:20:59.233644Z",
          "shell.execute_reply": "2020-10-27T13:20:59.232667Z"
        },
        "papermill": {
          "duration": 0.248755,
          "end_time": "2020-10-27T13:20:59.233844",
          "exception": false,
          "start_time": "2020-10-27T13:20:58.985089",
          "status": "completed"
        },
        "tags": [],
        "id": "Gvz0lC0KRIcu",
        "outputId": "97a34f91-0946-4743-9848-88d5706bbb8d"
      },
      "source": [
        "reg.score(x_test,y_test)"
      ],
      "execution_count": null,
      "outputs": [
        {
          "output_type": "execute_result",
          "data": {
            "text/plain": [
              "0.7515"
            ]
          },
          "metadata": {
            "tags": []
          },
          "execution_count": 22
        }
      ]
    },
    {
      "cell_type": "markdown",
      "metadata": {
        "papermill": {
          "duration": 0.04632,
          "end_time": "2020-10-27T13:20:59.329965",
          "exception": false,
          "start_time": "2020-10-27T13:20:59.283645",
          "status": "completed"
        },
        "tags": [],
        "id": "vJi1ujNkRIcv"
      },
      "source": [
        "# Tf-Idf"
      ]
    },
    {
      "cell_type": "code",
      "metadata": {
        "execution": {
          "iopub.execute_input": "2020-10-27T13:20:59.436059Z",
          "iopub.status.busy": "2020-10-27T13:20:59.435238Z",
          "iopub.status.idle": "2020-10-27T13:21:03.152979Z",
          "shell.execute_reply": "2020-10-27T13:21:03.152151Z"
        },
        "papermill": {
          "duration": 3.775086,
          "end_time": "2020-10-27T13:21:03.153159",
          "exception": false,
          "start_time": "2020-10-27T13:20:59.378073",
          "status": "completed"
        },
        "tags": [],
        "id": "ItrQQ8sRRIcv",
        "outputId": "5ed42b4e-c692-43a3-f5e9-bbb84a15761c"
      },
      "source": [
        "tf = TfidfVectorizer(max_features = 2500)\n",
        "z = tf.fit_transform(df['Cleaned']).toarray()\n",
        "z.shape"
      ],
      "execution_count": null,
      "outputs": [
        {
          "output_type": "execute_result",
          "data": {
            "text/plain": [
              "(100000, 2500)"
            ]
          },
          "metadata": {
            "tags": []
          },
          "execution_count": 23
        }
      ]
    },
    {
      "cell_type": "code",
      "metadata": {
        "execution": {
          "iopub.execute_input": "2020-10-27T13:21:03.269066Z",
          "iopub.status.busy": "2020-10-27T13:21:03.267900Z",
          "iopub.status.idle": "2020-10-27T13:21:04.566785Z",
          "shell.execute_reply": "2020-10-27T13:21:04.565923Z"
        },
        "papermill": {
          "duration": 1.359673,
          "end_time": "2020-10-27T13:21:04.566946",
          "exception": false,
          "start_time": "2020-10-27T13:21:03.207273",
          "status": "completed"
        },
        "tags": [],
        "id": "FGjEKMcdRIcw"
      },
      "source": [
        "z_train,z_test,y_train,y_test = train_test_split(z,df['sentiment'],test_size = 0.2,random_state = 42)"
      ],
      "execution_count": null,
      "outputs": []
    },
    {
      "cell_type": "markdown",
      "metadata": {
        "papermill": {
          "duration": 0.051954,
          "end_time": "2020-10-27T13:21:04.669869",
          "exception": false,
          "start_time": "2020-10-27T13:21:04.617915",
          "status": "completed"
        },
        "tags": [],
        "id": "qBdvn8KGRIcw"
      },
      "source": [
        "# Random Forest"
      ]
    },
    {
      "cell_type": "code",
      "metadata": {
        "execution": {
          "iopub.execute_input": "2020-10-27T13:21:04.773832Z",
          "iopub.status.busy": "2020-10-27T13:21:04.772948Z",
          "iopub.status.idle": "2020-10-27T13:37:49.000896Z",
          "shell.execute_reply": "2020-10-27T13:37:49.000021Z"
        },
        "papermill": {
          "duration": 1004.281887,
          "end_time": "2020-10-27T13:37:49.001083",
          "exception": false,
          "start_time": "2020-10-27T13:21:04.719196",
          "status": "completed"
        },
        "tags": [],
        "id": "oKoFFH4GRIcx",
        "outputId": "aa4b5171-3468-4244-9dd3-fd075158cd8c"
      },
      "source": [
        "%%time\n",
        "model1 = RandomForestClassifier()\n",
        "model1.fit(z_train,y_train)"
      ],
      "execution_count": null,
      "outputs": [
        {
          "output_type": "stream",
          "text": [
            "CPU times: user 16min 42s, sys: 1.19 s, total: 16min 43s\n",
            "Wall time: 16min 44s\n"
          ],
          "name": "stdout"
        },
        {
          "output_type": "execute_result",
          "data": {
            "text/plain": [
              "RandomForestClassifier()"
            ]
          },
          "metadata": {
            "tags": []
          },
          "execution_count": 25
        }
      ]
    },
    {
      "cell_type": "code",
      "metadata": {
        "execution": {
          "iopub.execute_input": "2020-10-27T13:37:49.107393Z",
          "iopub.status.busy": "2020-10-27T13:37:49.105863Z",
          "iopub.status.idle": "2020-10-27T13:38:13.513750Z",
          "shell.execute_reply": "2020-10-27T13:38:13.512958Z"
        },
        "papermill": {
          "duration": 24.464339,
          "end_time": "2020-10-27T13:38:13.513898",
          "exception": false,
          "start_time": "2020-10-27T13:37:49.049559",
          "status": "completed"
        },
        "tags": [],
        "id": "_fqQcUtcRIcx",
        "outputId": "caf4f422-b447-4611-9db9-d39040361169"
      },
      "source": [
        "model1.score(z_train,y_train)"
      ],
      "execution_count": null,
      "outputs": [
        {
          "output_type": "execute_result",
          "data": {
            "text/plain": [
              "0.97845"
            ]
          },
          "metadata": {
            "tags": []
          },
          "execution_count": 26
        }
      ]
    },
    {
      "cell_type": "code",
      "metadata": {
        "execution": {
          "iopub.execute_input": "2020-10-27T13:38:13.624534Z",
          "iopub.status.busy": "2020-10-27T13:38:13.622587Z",
          "iopub.status.idle": "2020-10-27T13:38:20.034869Z",
          "shell.execute_reply": "2020-10-27T13:38:20.034090Z"
        },
        "papermill": {
          "duration": 6.469913,
          "end_time": "2020-10-27T13:38:20.035006",
          "exception": false,
          "start_time": "2020-10-27T13:38:13.565093",
          "status": "completed"
        },
        "tags": [],
        "id": "EdFQDWPBRIcy",
        "outputId": "6eb2ce6b-4693-4c48-8893-7b13a2d79571"
      },
      "source": [
        "model1.score(z_test,y_test)"
      ],
      "execution_count": null,
      "outputs": [
        {
          "output_type": "execute_result",
          "data": {
            "text/plain": [
              "0.74"
            ]
          },
          "metadata": {
            "tags": []
          },
          "execution_count": 27
        }
      ]
    },
    {
      "cell_type": "markdown",
      "metadata": {
        "papermill": {
          "duration": 0.05178,
          "end_time": "2020-10-27T13:38:20.136529",
          "exception": false,
          "start_time": "2020-10-27T13:38:20.084749",
          "status": "completed"
        },
        "tags": [],
        "id": "faIjDnZpRIcy"
      },
      "source": [
        "# Log Regression\n"
      ]
    },
    {
      "cell_type": "code",
      "metadata": {
        "execution": {
          "iopub.execute_input": "2020-10-27T13:38:20.244248Z",
          "iopub.status.busy": "2020-10-27T13:38:20.243236Z",
          "iopub.status.idle": "2020-10-27T13:38:30.461230Z",
          "shell.execute_reply": "2020-10-27T13:38:30.460444Z"
        },
        "papermill": {
          "duration": 10.274984,
          "end_time": "2020-10-27T13:38:30.461387",
          "exception": false,
          "start_time": "2020-10-27T13:38:20.186403",
          "status": "completed"
        },
        "tags": [],
        "id": "t20Ksc3XRIcz",
        "outputId": "06317a66-7ac2-4624-9de0-3e71b562ea0b"
      },
      "source": [
        "%%time\n",
        "reg1 = LogisticRegression()\n",
        "reg1.fit(z_train,y_train)"
      ],
      "execution_count": null,
      "outputs": [
        {
          "output_type": "stream",
          "text": [
            "CPU times: user 20.1 s, sys: 38 ms, total: 20.1 s\n",
            "Wall time: 10.2 s\n"
          ],
          "name": "stdout"
        },
        {
          "output_type": "execute_result",
          "data": {
            "text/plain": [
              "LogisticRegression()"
            ]
          },
          "metadata": {
            "tags": []
          },
          "execution_count": 28
        }
      ]
    },
    {
      "cell_type": "code",
      "metadata": {
        "execution": {
          "iopub.execute_input": "2020-10-27T13:38:30.572611Z",
          "iopub.status.busy": "2020-10-27T13:38:30.571195Z",
          "iopub.status.idle": "2020-10-27T13:38:30.931772Z",
          "shell.execute_reply": "2020-10-27T13:38:30.932716Z"
        },
        "papermill": {
          "duration": 0.419816,
          "end_time": "2020-10-27T13:38:30.933049",
          "exception": false,
          "start_time": "2020-10-27T13:38:30.513233",
          "status": "completed"
        },
        "tags": [],
        "id": "n1z9nBT2RIcz",
        "outputId": "bfbec723-39c8-4ef2-8009-8c120bc134a1"
      },
      "source": [
        "reg1.score(z_train,y_train)"
      ],
      "execution_count": null,
      "outputs": [
        {
          "output_type": "execute_result",
          "data": {
            "text/plain": [
              "0.7708"
            ]
          },
          "metadata": {
            "tags": []
          },
          "execution_count": 29
        }
      ]
    },
    {
      "cell_type": "code",
      "metadata": {
        "execution": {
          "iopub.execute_input": "2020-10-27T13:38:31.079737Z",
          "iopub.status.busy": "2020-10-27T13:38:31.078293Z",
          "iopub.status.idle": "2020-10-27T13:38:31.172720Z",
          "shell.execute_reply": "2020-10-27T13:38:31.171946Z"
        },
        "papermill": {
          "duration": 0.160966,
          "end_time": "2020-10-27T13:38:31.172862",
          "exception": false,
          "start_time": "2020-10-27T13:38:31.011896",
          "status": "completed"
        },
        "tags": [],
        "id": "uR-nsHjbRIc0",
        "outputId": "9b4f9d2f-64ab-4716-9eee-8bc71915352e"
      },
      "source": [
        "reg1.score(z_test,y_test)"
      ],
      "execution_count": null,
      "outputs": [
        {
          "output_type": "execute_result",
          "data": {
            "text/plain": [
              "0.7542"
            ]
          },
          "metadata": {
            "tags": []
          },
          "execution_count": 30
        }
      ]
    },
    {
      "cell_type": "markdown",
      "metadata": {
        "papermill": {
          "duration": 0.052581,
          "end_time": "2020-10-27T13:38:31.277946",
          "exception": false,
          "start_time": "2020-10-27T13:38:31.225365",
          "status": "completed"
        },
        "tags": [],
        "id": "JGb-Pw1URIc0"
      },
      "source": [
        "# Plotting all the scores"
      ]
    },
    {
      "cell_type": "code",
      "metadata": {
        "execution": {
          "iopub.execute_input": "2020-10-27T13:38:31.390130Z",
          "iopub.status.busy": "2020-10-27T13:38:31.389350Z",
          "iopub.status.idle": "2020-10-27T13:38:44.390052Z",
          "shell.execute_reply": "2020-10-27T13:38:44.390788Z"
        },
        "papermill": {
          "duration": 13.060871,
          "end_time": "2020-10-27T13:38:44.390995",
          "exception": false,
          "start_time": "2020-10-27T13:38:31.330124",
          "status": "completed"
        },
        "tags": [],
        "id": "VNj9o991RIc0"
      },
      "source": [
        "scores = pd.DataFrame({'Bow(RF)': model.score(x_test,y_test),\n",
        "                       'Bow(LR)': reg.score(x_test,y_test),\n",
        "                       'TF(RF)': model1.score(z_test,y_test),\n",
        "                       'TF(LR)': reg1.score(z_test,y_test)},\n",
        "                      index = [0])"
      ],
      "execution_count": null,
      "outputs": []
    },
    {
      "cell_type": "code",
      "metadata": {
        "execution": {
          "iopub.execute_input": "2020-10-27T13:38:44.510750Z",
          "iopub.status.busy": "2020-10-27T13:38:44.509618Z",
          "iopub.status.idle": "2020-10-27T13:38:44.514749Z",
          "shell.execute_reply": "2020-10-27T13:38:44.514139Z"
        },
        "papermill": {
          "duration": 0.070519,
          "end_time": "2020-10-27T13:38:44.514908",
          "exception": false,
          "start_time": "2020-10-27T13:38:44.444389",
          "status": "completed"
        },
        "tags": [],
        "id": "7tstjOX4RIc1",
        "outputId": "f5ee318d-46f9-428a-e67b-74ae49258bfe"
      },
      "source": [
        "scores"
      ],
      "execution_count": null,
      "outputs": [
        {
          "output_type": "execute_result",
          "data": {
            "text/html": [
              "<div>\n",
              "<style scoped>\n",
              "    .dataframe tbody tr th:only-of-type {\n",
              "        vertical-align: middle;\n",
              "    }\n",
              "\n",
              "    .dataframe tbody tr th {\n",
              "        vertical-align: top;\n",
              "    }\n",
              "\n",
              "    .dataframe thead th {\n",
              "        text-align: right;\n",
              "    }\n",
              "</style>\n",
              "<table border=\"1\" class=\"dataframe\">\n",
              "  <thead>\n",
              "    <tr style=\"text-align: right;\">\n",
              "      <th></th>\n",
              "      <th>Bow(RF)</th>\n",
              "      <th>Bow(LR)</th>\n",
              "      <th>TF(RF)</th>\n",
              "      <th>TF(LR)</th>\n",
              "    </tr>\n",
              "  </thead>\n",
              "  <tbody>\n",
              "    <tr>\n",
              "      <th>0</th>\n",
              "      <td>0.7336</td>\n",
              "      <td>0.7515</td>\n",
              "      <td>0.74</td>\n",
              "      <td>0.7542</td>\n",
              "    </tr>\n",
              "  </tbody>\n",
              "</table>\n",
              "</div>"
            ],
            "text/plain": [
              "   Bow(RF)  Bow(LR)  TF(RF)  TF(LR)\n",
              "0   0.7336   0.7515    0.74  0.7542"
            ]
          },
          "metadata": {
            "tags": []
          },
          "execution_count": 32
        }
      ]
    },
    {
      "cell_type": "code",
      "metadata": {
        "execution": {
          "iopub.execute_input": "2020-10-27T13:38:44.629548Z",
          "iopub.status.busy": "2020-10-27T13:38:44.628803Z",
          "iopub.status.idle": "2020-10-27T13:38:44.826343Z",
          "shell.execute_reply": "2020-10-27T13:38:44.825679Z"
        },
        "papermill": {
          "duration": 0.257838,
          "end_time": "2020-10-27T13:38:44.826502",
          "exception": false,
          "start_time": "2020-10-27T13:38:44.568664",
          "status": "completed"
        },
        "tags": [],
        "id": "n6UA3VT_RIc1",
        "outputId": "9bfa33d2-7537-4b9c-bfca-2f33406439ee"
      },
      "source": [
        "scores.T.plot(kind = 'bar')"
      ],
      "execution_count": null,
      "outputs": [
        {
          "output_type": "execute_result",
          "data": {
            "text/plain": [
              "<matplotlib.axes._subplots.AxesSubplot at 0x7f4da076c550>"
            ]
          },
          "metadata": {
            "tags": []
          },
          "execution_count": 33
        },
        {
          "output_type": "display_data",
          "data": {
            "image/png": "[encoded data removed]",
            "text/plain": [
              "<Figure size 432x288 with 1 Axes>"
            ]
          },
          "metadata": {
            "tags": [],
            "needs_background": "light"
          }
        }
      ]
    },
    {
      "cell_type": "code",
      "metadata": {
        "papermill": {
          "duration": 0.055197,
          "end_time": "2020-10-27T13:38:45.044995",
          "exception": false,
          "start_time": "2020-10-27T13:38:44.989798",
          "status": "completed"
        },
        "tags": [],
        "id": "ZtsJd4mDRIc2"
      },
      "source": [],
      "execution_count": null,
      "outputs": []
    }
  ]
}